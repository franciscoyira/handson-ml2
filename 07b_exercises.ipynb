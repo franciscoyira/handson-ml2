{
 "cells": [
  {
   "cell_type": "markdown",
   "id": "dd559a1c-3a50-44ad-9cb8-e1a1c3faa450",
   "metadata": {},
   "source": [
    "# Exercises 8 and 9 (Chapter 7)\n",
    "\n",
    "7. Load the MNIST data (introduced in Chapter 3), and:\n",
    "- split it into a training set, a validation set, and a test set (e.g., use 50,000 instances for training, 10,000 for validation, and 10,000 for testing)\n",
    "- Then train various classifiers, such as a Random Forest classifier, an Extra-Trees classifier, and an SVM classifier.\n",
    "- Next, try to combine them into an ensemble that outperforms each individual classifier on the validation set, using soft or hard voting.\n",
    "- Once you have found one, try it on the test set. How much better does it perform compared to the individual classifiers?"
   ]
  },
  {
   "cell_type": "code",
   "execution_count": 1,
   "id": "9e04252d-94f4-4695-95a7-36f3ae91d2ea",
   "metadata": {},
   "outputs": [],
   "source": [
    "# Python ≥3.5 is required\n",
    "import sys\n",
    "assert sys.version_info >= (3, 5)\n",
    "\n",
    "# Is this notebook running on Colab or Kaggle?\n",
    "IS_COLAB = \"google.colab\" in sys.modules\n",
    "IS_KAGGLE = \"kaggle_secrets\" in sys.modules\n",
    "\n",
    "# Scikit-Learn ≥0.20 is required\n",
    "import sklearn\n",
    "assert sklearn.__version__ >= \"0.20\"\n",
    "\n",
    "# Common imports\n",
    "import numpy as np\n",
    "import os\n",
    "import pandas as pd"
   ]
  },
  {
   "cell_type": "code",
   "execution_count": 2,
   "id": "173b4cc0-ed6c-45d7-a6c9-93140571af12",
   "metadata": {},
   "outputs": [],
   "source": [
    "# For saving the models after they're trained\n",
    "import pickle\n",
    "from joblib import dump, load"
   ]
  },
  {
   "cell_type": "code",
   "execution_count": 3,
   "id": "113030e7-0004-475c-95d8-64e126f9ba45",
   "metadata": {},
   "outputs": [],
   "source": [
    "from sklearn.datasets import fetch_openml\n",
    "mnist = fetch_openml('mnist_784', version=1, as_frame=False)"
   ]
  },
  {
   "cell_type": "code",
   "execution_count": 4,
   "id": "ea83842b-bf9b-46b3-b091-766ef4dfd96c",
   "metadata": {},
   "outputs": [],
   "source": [
    "X, y = mnist[\"data\"], mnist[\"target\"]"
   ]
  },
  {
   "cell_type": "code",
   "execution_count": 5,
   "id": "f9dadc4a-428e-476b-a95d-4456ef278a8e",
   "metadata": {},
   "outputs": [],
   "source": [
    "from sklearn.model_selection import train_test_split\n",
    "X_train_full, X_test, y_train_full, y_test = X[:60000], X[60000:], y[:60000], y[60000:]\n",
    "\n",
    "X_train, X_val, y_train, y_val = train_test_split(X_train_full, y_train_full,\n",
    "                                                     test_size=10000,\n",
    "                                                     random_state=1989)"
   ]
  },
  {
   "cell_type": "code",
   "execution_count": 6,
   "id": "8f1790f5-76bd-4a4c-97ca-f693bd0daf9d",
   "metadata": {},
   "outputs": [],
   "source": [
    "# Train RandomForest, ExtraTrees and SVM\n",
    "from sklearn.ensemble import RandomForestClassifier\n",
    "from sklearn.model_selection import GridSearchCV"
   ]
  },
  {
   "cell_type": "code",
   "execution_count": 7,
   "id": "3842296e-38ca-4755-8e36-570d6b455163",
   "metadata": {},
   "outputs": [],
   "source": [
    "from os.path import exists\n",
    "if exists('outputs/grid_rf_ch7.joblib'):\n",
    "    grid_rf = load('outputs/grid_rf_ch7.joblib')\n",
    "else:\n",
    "    rnd_clf = RandomForestClassifier(n_estimators=500, # number of trees\n",
    "                                 n_jobs=-1) # use all the cores\n",
    "\n",
    "    max_leaf_nodes_params = list(range(2, 500, 20))\n",
    "    max_leaf_nodes_params.append(None)\n",
    "\n",
    "    grid_rf = {\n",
    "        'max_leaf_nodes': max_leaf_nodes_params\n",
    "    }\n",
    "\n",
    "    grid_rf = GridSearchCV(rnd_clf, grid_rf, cv = 3, scoring = 'accuracy')\n",
    "\n",
    "    grid_rf.fit(X_train, y_train)\n",
    "    \n",
    "    dump(grid_rf, 'outputs/grid_rf_ch7.joblib')"
   ]
  },
  {
   "cell_type": "code",
   "execution_count": 8,
   "id": "4ea89912-d70f-4747-a23b-f2824a78eb14",
   "metadata": {},
   "outputs": [
    {
     "data": {
      "text/plain": [
       "0.9656199975724475"
      ]
     },
     "execution_count": 8,
     "metadata": {},
     "output_type": "execute_result"
    }
   ],
   "source": [
    "grid_rf.best_score_"
   ]
  },
  {
   "cell_type": "code",
   "execution_count": 9,
   "id": "51676883-4eb5-4d77-aaee-d2bc20aed41c",
   "metadata": {},
   "outputs": [
    {
     "data": {
      "text/plain": [
       "0.9696"
      ]
     },
     "execution_count": 9,
     "metadata": {},
     "output_type": "execute_result"
    }
   ],
   "source": [
    "# Now get the performance (score) on the validation set\n",
    "from sklearn.metrics import accuracy_score\n",
    "y_pred_rf = grid_rf.predict(X_val)\n",
    "accuracy_score(y_val, y_pred_rf)"
   ]
  },
  {
   "cell_type": "code",
   "execution_count": 10,
   "id": "ac5c47c9-13f7-48bf-9ae0-5085b0c2359d",
   "metadata": {},
   "outputs": [],
   "source": [
    "# Now it's the turn of an ExtraTrees classifier\n",
    "from sklearn.ensemble import ExtraTreesClassifier"
   ]
  },
  {
   "cell_type": "code",
   "execution_count": 11,
   "id": "f31d0a15-c03a-4a84-9b7b-655bf352a8ac",
   "metadata": {},
   "outputs": [],
   "source": [
    "if exists('outputs/gridsearch_xt_ch7.joblib'):\n",
    "    gridsearch_xt = load('outputs/gridsearch_xt_ch7.joblib')\n",
    "else:\n",
    "    xt_clf = ExtraTreesClassifier(n_jobs=-1,\n",
    "                              random_state=1989)\n",
    "    # max_leaf_nodes and n_estimators\n",
    "    max_leaf_nodes_params = list(range(2, 500, 35))\n",
    "    max_leaf_nodes_params.append(None)\n",
    "\n",
    "    grid_xt = {\n",
    "        'max_leaf_nodes': max_leaf_nodes_params,\n",
    "        'n_estimators': [250, 500, 750]\n",
    "    }\n",
    "\n",
    "    gridsearch_xt = GridSearchCV(xt_clf,\n",
    "                                grid_xt,\n",
    "                                cv = 3,\n",
    "                                scoring = 'accuracy')\n",
    "\n",
    "    gridsearch_xt.fit(X_train, y_train)\n",
    "    \n",
    "    dump(gridsearch_xt, 'outputs/gridsearch_xt_ch7.joblib')"
   ]
  },
  {
   "cell_type": "code",
   "execution_count": 12,
   "id": "da94b67a-a3f9-4258-88b6-f43982c7523d",
   "metadata": {},
   "outputs": [
    {
     "data": {
      "text/plain": [
       "0.9695399971755755"
      ]
     },
     "execution_count": 12,
     "metadata": {},
     "output_type": "execute_result"
    }
   ],
   "source": [
    "gridsearch_xt.best_score_"
   ]
  },
  {
   "cell_type": "code",
   "execution_count": 32,
   "id": "b429384e-f03c-4851-a4b8-e4dda6a845d4",
   "metadata": {},
   "outputs": [
    {
     "data": {
      "text/plain": [
       "{'max_leaf_nodes': None, 'n_estimators': 750}"
      ]
     },
     "execution_count": 32,
     "metadata": {},
     "output_type": "execute_result"
    }
   ],
   "source": [
    "gridsearch_xt.best_params_"
   ]
  },
  {
   "cell_type": "code",
   "execution_count": 13,
   "id": "bff8c045-ffc1-48ff-8ce0-57fdaf7d888b",
   "metadata": {},
   "outputs": [
    {
     "data": {
      "text/plain": [
       "0.973"
      ]
     },
     "execution_count": 13,
     "metadata": {},
     "output_type": "execute_result"
    }
   ],
   "source": [
    "y_pred_xt = gridsearch_xt.predict(X_val)\n",
    "accuracy_score(y_val, y_pred_xt)"
   ]
  },
  {
   "cell_type": "code",
   "execution_count": 14,
   "id": "70a4f685-c900-4759-a24e-611629051459",
   "metadata": {},
   "outputs": [],
   "source": [
    "# AND FINALLY! THE SVM PREDICTOR\n",
    "# Look at the SVM chapter exercises\n",
    "# For this I have to scale and center the data\n",
    "from sklearn.svm import SVC\n",
    "from sklearn.pipeline import Pipeline\n",
    "from sklearn.preprocessing import StandardScaler"
   ]
  },
  {
   "cell_type": "code",
   "execution_count": 15,
   "id": "4299b851-75fd-4f59-964e-4fac14756b73",
   "metadata": {},
   "outputs": [],
   "source": [
    "if exists('outputs/svm_clf_ch7.joblib'):\n",
    "    svm_clf = load('outputs/svm_clf_ch7.joblib')\n",
    "else:\n",
    "    svm_clf = Pipeline([\n",
    "            (\"scaler\", StandardScaler()),\n",
    "            (\"svm_clf\", SVC(kernel=\"rbf\", probability=True))\n",
    "        ])\n",
    "\n",
    "    svm_clf.fit(X_train, y_train)\n",
    "    \n",
    "    dump(svm_clf, 'outputs/svm_clf_ch7.joblib')"
   ]
  },
  {
   "cell_type": "code",
   "execution_count": 16,
   "id": "8bf0841c-abc0-45db-903d-81b9aa35f661",
   "metadata": {},
   "outputs": [
    {
     "data": {
      "text/plain": [
       "0.9652"
      ]
     },
     "execution_count": 16,
     "metadata": {},
     "output_type": "execute_result"
    }
   ],
   "source": [
    "y_pred_svm = svm_clf.predict(X_val)\n",
    "accuracy_score(y_val, y_pred_svm)"
   ]
  },
  {
   "cell_type": "markdown",
   "id": "336aa8e2-48ab-4ab9-afb5-2afcc0bf9549",
   "metadata": {},
   "source": [
    "Now I'm gonna combine them in a Voting Classifier.\n",
    "Note that if this is done with the default `VotingClassifier` class, it is going to retrain all the models. But here I want to compare the performance of them on their own with an ensemble that combines them, so I need a voting classifier that preserves the training."
   ]
  },
  {
   "cell_type": "code",
   "execution_count": 17,
   "id": "316feeaa-5b56-4aec-ad1b-85808aff9c8a",
   "metadata": {},
   "outputs": [
    {
     "name": "stderr",
     "output_type": "stream",
     "text": [
      "/home/studio-lab-user/.conda/envs/handsonl-env/lib/python3.9/site-packages/mlxtend/classifier/ensemble_vote.py:166: UserWarning: fit_base_estimators=False enforces use_clones to be `False`\n",
      "  warnings.warn(\"fit_base_estimators=False \"\n"
     ]
    },
    {
     "data": {
      "text/plain": [
       "0.9728"
      ]
     },
     "execution_count": 17,
     "metadata": {},
     "output_type": "execute_result"
    }
   ],
   "source": [
    "# Solution using mlxtend\n",
    "from mlxtend.classifier import EnsembleVoteClassifier\n",
    "import copy\n",
    "eclf_hard = EnsembleVoteClassifier(clfs=[grid_rf, gridsearch_xt, svm_clf],\n",
    "                                   voting='hard',\n",
    "                                   fit_base_estimators=False,\n",
    "                                   use_clones=False)\n",
    "\n",
    "eclf_hard.fit(X_train, y_train)\n",
    "\n",
    "y_pred_vot_hard = eclf_hard.predict(X_val)\n",
    "accuracy_score(y_val, y_pred_vot_hard)"
   ]
  },
  {
   "cell_type": "code",
   "execution_count": 20,
   "id": "5e6239bb-c4d7-47ca-9c0a-3e650bfb7a4a",
   "metadata": {},
   "outputs": [
    {
     "data": {
      "text/plain": [
       "0.9751"
      ]
     },
     "execution_count": 20,
     "metadata": {},
     "output_type": "execute_result"
    }
   ],
   "source": [
    "eclf_soft = EnsembleVoteClassifier(clfs=[grid_rf, gridsearch_xt, svm_clf],\n",
    "                                   voting='soft',\n",
    "                                   fit_base_estimators=False,\n",
    "                                   use_clones=False)\n",
    "\n",
    "eclf_soft.fit(X_train, y_train)\n",
    "\n",
    "y_pred_vot_soft = eclf_soft.predict(X_val)\n",
    "accuracy_score(y_val, y_pred_vot_soft)"
   ]
  },
  {
   "cell_type": "markdown",
   "id": "6c08089d-7881-45c2-8479-27cb3ea84364",
   "metadata": {},
   "source": [
    "Now it's time to check the accuracy of the base models against the best voting classifier *on test data* (no validation data)"
   ]
  },
  {
   "cell_type": "code",
   "execution_count": 22,
   "id": "515793ce-46b1-4c81-af01-d89f9073d16e",
   "metadata": {},
   "outputs": [
    {
     "name": "stdout",
     "output_type": "stream",
     "text": [
      "Accuracy: 0.9701 [Random Forest]\n",
      "Accuracy: 0.9732 [ExtraTrees]\n",
      "Accuracy: 0.9645 [SVM]\n",
      "Accuracy: 0.9733 [Voting Classifier]\n"
     ]
    }
   ],
   "source": [
    "labels = ['Random Forest', 'ExtraTrees', 'SVM', 'Voting Classifier']\n",
    "\n",
    "for clf, label in zip([grid_rf, gridsearch_xt, svm_clf, eclf_soft], labels):\n",
    "    y_pred = clf.predict(X_test)\n",
    "    score = accuracy_score(y_test, y_pred)\n",
    "    print(\"Accuracy: %0.4f [%s]\" \n",
    "          % (score, label))\n"
   ]
  },
  {
   "cell_type": "markdown",
   "id": "b5fd7ee9-c539-4e81-9b1d-ca2f42f33c2c",
   "metadata": {},
   "source": [
    "9. \n",
    "\n",
    "- Run the individual classifiers from the previous exercise to make predictions on the validation set\n",
    "- create a new training set with the resulting predictions: each training instance is a vector containing the set of predictions from all your classifiers for an image, and the target is the image’s class"
   ]
  },
  {
   "cell_type": "code",
   "execution_count": 27,
   "id": "f1c43252-91bf-4258-8314-e28ae6572812",
   "metadata": {},
   "outputs": [
    {
     "data": {
      "text/plain": [
       "(10000,)"
      ]
     },
     "execution_count": 27,
     "metadata": {},
     "output_type": "execute_result"
    }
   ],
   "source": [
    "# Create columns of predictions from each model on validation set\n",
    "y_pred_rf.shape\n",
    "y_pred_xt.shape\n",
    "y_pred_svm.shape"
   ]
  },
  {
   "cell_type": "code",
   "execution_count": 31,
   "id": "c686f9e5-9d54-4970-a354-8a463d2d478a",
   "metadata": {},
   "outputs": [
    {
     "data": {
      "text/plain": [
       "array([['6', '6', '6'],\n",
       "       ['1', '1', '1'],\n",
       "       ['5', '5', '5'],\n",
       "       ['0', '0', '0'],\n",
       "       ['3', '3', '3']], dtype=object)"
      ]
     },
     "execution_count": 31,
     "metadata": {},
     "output_type": "execute_result"
    }
   ],
   "source": [
    "new_X_train = np.vstack((y_pred_rf, y_pred_xt, y_pred_svm)).T\n",
    "\n",
    "new_X_train[:5]"
   ]
  },
  {
   "cell_type": "markdown",
   "id": "b210374b-bc32-4b1c-a9e9-7f243690bce2",
   "metadata": {},
   "source": [
    "- Train a classifier on this new training set. Congratulations, you have just trained a blender, and together with the classifiers it forms a stacking ensemble!"
   ]
  },
  {
   "cell_type": "code",
   "execution_count": 39,
   "id": "58cadfe6-42b3-4472-bbe6-ea9fcfe9780b",
   "metadata": {},
   "outputs": [
    {
     "data": {
      "text/plain": [
       "GridSearchCV(cv=3, estimator=ExtraTreesClassifier(n_jobs=-1, random_state=1989),\n",
       "             param_grid={'max_leaf_nodes': [2, 3, 4, 5, 6, 7, 8, 9, 10, 11, 12,\n",
       "                                            13, 14, 15, 16, 17, 18, 19, None],\n",
       "                         'n_estimators': [20, 30, 40, 50, 60, 70, 75, 80, 90,\n",
       "                                          100]},\n",
       "             scoring='accuracy')"
      ]
     },
     "execution_count": 39,
     "metadata": {},
     "output_type": "execute_result"
    }
   ],
   "source": [
    "blender_xt = ExtraTreesClassifier(n_jobs=-1,\n",
    "                                  random_state=1989)\n",
    "\n",
    "# Using cross validation for this one too\n",
    "max_leaf_nodes_blender = list(range(2, 20, 1))\n",
    "max_leaf_nodes_blender.append(None)\n",
    "\n",
    "grid_blender = {\n",
    "    'max_leaf_nodes': max_leaf_nodes_blender,\n",
    "    'n_estimators': [20, 30, 40, 50, 60, 70, 75, 80, 90, 100]\n",
    "}\n",
    "\n",
    "gridsearch_blender = GridSearchCV(blender_xt,\n",
    "                                  grid_blender,\n",
    "                                  cv = 3,\n",
    "                                  scoring = 'accuracy')\n",
    "\n",
    "gridsearch_blender.fit(new_X_train, y_val)"
   ]
  },
  {
   "cell_type": "code",
   "execution_count": 40,
   "id": "d3084134-7746-4c87-983d-afddbe055e75",
   "metadata": {},
   "outputs": [
    {
     "data": {
      "text/plain": [
       "0.9729000494530556"
      ]
     },
     "execution_count": 40,
     "metadata": {},
     "output_type": "execute_result"
    }
   ],
   "source": [
    "gridsearch_blender.best_score_"
   ]
  },
  {
   "cell_type": "code",
   "execution_count": 41,
   "id": "529543cc-f9e5-41c0-b87f-d2b3130dc4d9",
   "metadata": {},
   "outputs": [
    {
     "data": {
      "text/plain": [
       "{'max_leaf_nodes': 6, 'n_estimators': 75}"
      ]
     },
     "execution_count": 41,
     "metadata": {},
     "output_type": "execute_result"
    }
   ],
   "source": [
    "gridsearch_blender.best_params_"
   ]
  },
  {
   "cell_type": "markdown",
   "id": "d9279bf0-0d97-4b0a-b258-53e762034d36",
   "metadata": {},
   "source": [
    "- Now evaluate the ensemble on the test set. For each image in the test set, make predictions with all your classifiers, then feed the predictions to the blender to get the ensemble’s predictions. How does it compare to the voting classifier you trained earlier?"
   ]
  },
  {
   "cell_type": "code",
   "execution_count": 42,
   "id": "2ee1d7c6-e53f-419c-8ce0-ad9f59050eb8",
   "metadata": {},
   "outputs": [],
   "source": [
    "y_pred_test_rf = grid_rf.predict(X_test)\n",
    "y_pred_test_xt = gridsearch_xt.predict(X_test)\n",
    "y_pred_test_svm = svm_clf.predict(X_test)\n",
    "\n",
    "new_X_test = np.vstack((y_pred_test_rf, y_pred_test_xt, y_pred_test_svm)).T"
   ]
  },
  {
   "cell_type": "code",
   "execution_count": 43,
   "id": "e3586ab7-277e-4b72-a6ff-74df7dd678e1",
   "metadata": {},
   "outputs": [
    {
     "data": {
      "text/plain": [
       "0.9729"
      ]
     },
     "execution_count": 43,
     "metadata": {},
     "output_type": "execute_result"
    }
   ],
   "source": [
    "y_pred_test_blender = gridsearch_blender.predict(new_X_test)\n",
    "accuracy_score(y_test, y_pred_test_blender)"
   ]
  },
  {
   "cell_type": "code",
   "execution_count": null,
   "id": "a3280893-1757-4d05-b9d0-be4da663254b",
   "metadata": {},
   "outputs": [],
   "source": []
  }
 ],
 "metadata": {
  "interpreter": {
   "hash": "1381a63594635cc29e031c5573382809bbdd89de00065b078a7a34f46faaaa54"
  },
  "kernelspec": {
   "display_name": "handsonl-env:Python",
   "language": "python",
   "name": "conda-env-handsonl-env-py"
  },
  "language_info": {
   "codemirror_mode": {
    "name": "ipython",
    "version": 3
   },
   "file_extension": ".py",
   "mimetype": "text/x-python",
   "name": "python",
   "nbconvert_exporter": "python",
   "pygments_lexer": "ipython3",
   "version": "3.9.12"
  }
 },
 "nbformat": 4,
 "nbformat_minor": 5
}
