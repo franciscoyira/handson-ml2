{
 "cells": [
  {
   "cell_type": "markdown",
   "id": "6729f670-245e-453a-ad1f-2dd13686f923",
   "metadata": {},
   "source": [
    "# Exercise Chapter 5: Predicting housing prices with SVM"
   ]
  },
  {
   "cell_type": "markdown",
   "id": "650aa19d-fb9a-45c9-ab5b-74b8446c1a10",
   "metadata": {},
   "source": [
    "Important: the exercise is using an SVM REGRESSOR, NOT classificator"
   ]
  },
  {
   "cell_type": "code",
   "execution_count": 2,
   "id": "263814eb-1b02-4608-908c-a2f013d61b25",
   "metadata": {},
   "outputs": [],
   "source": [
    "# Boilerplate code / load libraries\n",
    "import sklearn\n",
    "assert sklearn.__version__ >= \"0.20\"\n",
    "\n",
    "# Common imports\n",
    "import numpy as np\n",
    "import pandas as pd\n",
    "import os\n",
    "\n",
    "# to make this notebook's output stable across runs\n",
    "np.random.seed(42)\n",
    "\n",
    "# To plot pretty figures\n",
    "%matplotlib inline\n",
    "import matplotlib as mpl\n",
    "import matplotlib.pyplot as plt\n",
    "mpl.rc('axes', labelsize=14)\n",
    "mpl.rc('xtick', labelsize=12)\n",
    "mpl.rc('ytick', labelsize=12)"
   ]
  },
  {
   "cell_type": "code",
   "execution_count": 4,
   "id": "4c1ae592-65a6-4c32-bf28-eff10ab74a34",
   "metadata": {},
   "outputs": [],
   "source": [
    "HOUSING_PATH = os.path.join(\"datasets\", \"housing\")\n",
    "def load_housing_data(housing_path=HOUSING_PATH):\n",
    "    csv_path = os.path.join(housing_path, \"housing.csv\")\n",
    "    return pd.read_csv(csv_path)\n",
    "\n",
    "housing = load_housing_data()"
   ]
  },
  {
   "cell_type": "code",
   "execution_count": 5,
   "id": "3612b29a-c662-4bb0-a48d-e5396bfa6047",
   "metadata": {},
   "outputs": [],
   "source": [
    "from sklearn.model_selection import train_test_split\n",
    "train_set, test_set = train_test_split(housing, test_size=0.2, random_state=42)\n"
   ]
  },
  {
   "cell_type": "code",
   "execution_count": 7,
   "id": "b1a4ce79-b846-451c-a118-3de1f9f9a2d2",
   "metadata": {},
   "outputs": [
    {
     "name": "stdout",
     "output_type": "stream",
     "text": [
      "<class 'pandas.core.frame.DataFrame'>\n",
      "Int64Index: 16512 entries, 14196 to 15795\n",
      "Data columns (total 10 columns):\n",
      " #   Column              Non-Null Count  Dtype  \n",
      "---  ------              --------------  -----  \n",
      " 0   longitude           16512 non-null  float64\n",
      " 1   latitude            16512 non-null  float64\n",
      " 2   housing_median_age  16512 non-null  float64\n",
      " 3   total_rooms         16512 non-null  float64\n",
      " 4   total_bedrooms      16512 non-null  float64\n",
      " 5   population          16512 non-null  float64\n",
      " 6   households          16512 non-null  float64\n",
      " 7   median_income       16512 non-null  float64\n",
      " 8   median_house_value  16512 non-null  float64\n",
      " 9   ocean_proximity     16512 non-null  object \n",
      "dtypes: float64(9), object(1)\n",
      "memory usage: 1.4+ MB\n"
     ]
    }
   ],
   "source": [
    "train_set.info()"
   ]
  },
  {
   "cell_type": "code",
   "execution_count": 8,
   "id": "fe1e5c6f-b8c0-4570-8636-b3fdb3f31266",
   "metadata": {},
   "outputs": [],
   "source": [
    "X_train = train_set.drop(\"median_house_value\", axis=1) # drop labels for training set\n",
    "y_train = train_set[\"median_house_value\"].copy()"
   ]
  },
  {
   "cell_type": "code",
   "execution_count": 9,
   "id": "b874f4ca-3fb2-4356-baca-587d4b9d8131",
   "metadata": {},
   "outputs": [
    {
     "data": {
      "text/plain": [
       "(16512, 9)"
      ]
     },
     "execution_count": 9,
     "metadata": {},
     "output_type": "execute_result"
    }
   ],
   "source": [
    "X_train.shape"
   ]
  },
  {
   "cell_type": "code",
   "execution_count": 15,
   "id": "9ffa813d-6f59-43af-b559-eea85f3ec473",
   "metadata": {},
   "outputs": [],
   "source": [
    "# Imputing missing values\n",
    "from sklearn.impute import SimpleImputer"
   ]
  },
  {
   "cell_type": "code",
   "execution_count": 16,
   "id": "214d8441-dcba-4695-9dc9-63b9a71a8997",
   "metadata": {},
   "outputs": [],
   "source": [
    "from sklearn.base import BaseEstimator, TransformerMixin\n",
    "\n",
    "# column index\n",
    "rooms_ix, bedrooms_ix, population_ix, households_ix = 3, 4, 5, 6\n",
    "\n",
    "# Code for getting the column indices\n",
    "# col_names = \"total_rooms\", \"total_bedrooms\", \"population\", \"households\"\n",
    "# rooms_ix, bedrooms_ix, population_ix, households_ix = [\n",
    "#    housing.columns.get_loc(c) for c in col_names] # get the column indices\n",
    "\n",
    "class CombinedAttributesAdder(BaseEstimator, TransformerMixin):\n",
    "    def __init__(self, add_bedrooms_per_room=True): # no *args or **kargs\n",
    "        self.add_bedrooms_per_room = add_bedrooms_per_room\n",
    "    def fit(self, X, y=None):\n",
    "        return self  # nothing else to do\n",
    "    def transform(self, X):\n",
    "        rooms_per_household = X[:, rooms_ix] / X[:, households_ix]\n",
    "        population_per_household = X[:, population_ix] / X[:, households_ix]\n",
    "        if self.add_bedrooms_per_room:\n",
    "            bedrooms_per_room = X[:, bedrooms_ix] / X[:, rooms_ix]\n",
    "            return np.c_[X, rooms_per_household, population_per_household,\n",
    "                         bedrooms_per_room]\n",
    "        else:\n",
    "            return np.c_[X, rooms_per_household, population_per_household]"
   ]
  },
  {
   "cell_type": "code",
   "execution_count": 17,
   "id": "ad644861-474d-497e-8175-02123c61bc9d",
   "metadata": {},
   "outputs": [],
   "source": [
    "# Define num_pipeline\n",
    "from sklearn.pipeline import Pipeline\n",
    "from sklearn.preprocessing import StandardScaler\n",
    "\n",
    "num_pipeline = Pipeline([\n",
    "        ('imputer', SimpleImputer(strategy=\"median\")),\n",
    "        ('attribs_adder', CombinedAttributesAdder()),\n",
    "        ('std_scaler', StandardScaler()),\n",
    "    ])\n"
   ]
  },
  {
   "cell_type": "code",
   "execution_count": 19,
   "id": "76e81544-adb4-456b-9068-5def7ca17429",
   "metadata": {},
   "outputs": [],
   "source": [
    "from sklearn.compose import ColumnTransformer\n",
    "from sklearn.preprocessing import OneHotEncoder\n",
    "\n",
    "num_attribs = list(X_train.select_dtypes(include=[np.number]).columns.values)\n",
    "cat_attribs = [\"ocean_proximity\"]\n",
    "\n",
    "full_pipeline = ColumnTransformer([\n",
    "        (\"num\", num_pipeline, num_attribs),\n",
    "        (\"cat\", OneHotEncoder(), cat_attribs),\n",
    "    ])\n",
    "\n",
    "X_train_prep = full_pipeline.fit_transform(X_train)"
   ]
  },
  {
   "cell_type": "code",
   "execution_count": 20,
   "id": "369b4c3d-7294-451e-a066-02e403199fd6",
   "metadata": {},
   "outputs": [],
   "source": [
    "from sklearn.svm import SVR\n",
    "from sklearn.model_selection import RandomizedSearchCV\n",
    "\n",
    "svm_reg = SVR(kernel=\"rbf\")\n",
    "\n",
    "\n",
    "svm_random = {'gamma': [0.1, 1, 100, 1000],\n",
    "              'C': [0.001, 0.1, 1, 10, 1000]}\n",
    "\n",
    "rs_random = RandomizedSearchCV(estimator = svm_reg,\n",
    "                               param_distributions = svm_random,\n",
    "                               n_iter = 10,\n",
    "                               cv = 5,\n",
    "                               verbose= 2,\n",
    "                               random_state=42,\n",
    "                               n_jobs = -1)\n"
   ]
  },
  {
   "cell_type": "code",
   "execution_count": 21,
   "id": "40d146f6-0018-4ebc-8a51-716da91fe344",
   "metadata": {},
   "outputs": [
    {
     "name": "stdout",
     "output_type": "stream",
     "text": [
      "Fitting 5 folds for each of 10 candidates, totalling 50 fits\n",
      "[CV] END .................................C=0.001, gamma=0.1; total time=  54.1s\n",
      "[CV] END .................................C=0.001, gamma=0.1; total time=  55.5s\n",
      "[CV] END .................................C=0.001, gamma=0.1; total time=  58.6s\n",
      "[CV] END .................................C=0.001, gamma=0.1; total time=  59.3s\n",
      "[CV] END .................................C=0.001, gamma=0.1; total time=  46.4s\n",
      "[CV] END ....................................C=1000, gamma=1; total time=  46.2s\n",
      "[CV] END ....................................C=1000, gamma=1; total time=  50.1s\n",
      "[CV] END ....................................C=1000, gamma=1; total time=  52.9s\n",
      "[CV] END ....................................C=1000, gamma=1; total time=  46.1s\n",
      "[CV] END ...................................C=10, gamma=1000; total time=  45.1s\n",
      "[CV] END ....................................C=1000, gamma=1; total time=  50.4s\n",
      "[CV] END ...................................C=10, gamma=1000; total time=  52.0s\n",
      "[CV] END ...................................C=10, gamma=1000; total time=  45.1s\n",
      "[CV] END ...................................C=10, gamma=1000; total time=  43.5s\n",
      "[CV] END ...................................C=10, gamma=1000; total time=  48.9s\n",
      "[CV] END ...................................C=0.001, gamma=1; total time=  48.0s\n",
      "[CV] END ...................................C=0.001, gamma=1; total time=  46.9s\n",
      "[CV] END ...................................C=0.001, gamma=1; total time=  45.0s\n",
      "[CV] END ...................................C=0.001, gamma=1; total time=  51.7s\n",
      "[CV] END ...................................C=0.001, gamma=1; total time=  49.4s\n",
      "[CV] END .....................................C=1, gamma=0.1; total time=  47.9s\n",
      "[CV] END .....................................C=1, gamma=0.1; total time=  53.4s\n",
      "[CV] END .....................................C=1, gamma=0.1; total time=  51.6s\n",
      "[CV] END .....................................C=1, gamma=0.1; total time=  53.2s\n",
      "[CV] END .....................................C=1, gamma=0.1; total time=  50.4s\n",
      "[CV] END .....................................C=0.1, gamma=1; total time=  49.5s\n",
      "[CV] END .....................................C=0.1, gamma=1; total time=  48.8s\n",
      "[CV] END .....................................C=0.1, gamma=1; total time=  55.2s\n",
      "[CV] END .....................................C=0.1, gamma=1; total time=  47.3s\n",
      "[CV] END .....................................C=0.1, gamma=1; total time=  46.9s\n",
      "[CV] END ....................................C=1, gamma=1000; total time=  47.1s\n",
      "[CV] END ....................................C=1, gamma=1000; total time=  50.0s\n",
      "[CV] END ....................................C=1, gamma=1000; total time=  43.0s\n",
      "[CV] END ....................................C=1, gamma=1000; total time=  43.2s\n",
      "[CV] END ....................................C=1, gamma=1000; total time=  49.3s\n",
      "[CV] END ................................C=0.001, gamma=1000; total time=  50.4s\n",
      "[CV] END ................................C=0.001, gamma=1000; total time=  44.9s\n",
      "[CV] END ................................C=0.001, gamma=1000; total time=  42.3s\n",
      "[CV] END ................................C=0.001, gamma=1000; total time=  48.8s\n",
      "[CV] END ................................C=0.001, gamma=1000; total time=  48.0s\n",
      "[CV] END ..................................C=1000, gamma=100; total time=  49.5s\n",
      "[CV] END ..................................C=1000, gamma=100; total time=  54.0s\n",
      "[CV] END ..................................C=1000, gamma=100; total time=  52.6s\n",
      "[CV] END ..................................C=1000, gamma=100; total time=  54.3s\n",
      "[CV] END ..................................C=1000, gamma=100; total time=  50.5s\n",
      "[CV] END ..................................C=1000, gamma=0.1; total time=  49.0s\n",
      "[CV] END ..................................C=1000, gamma=0.1; total time=  51.9s\n",
      "[CV] END ..................................C=1000, gamma=0.1; total time=  43.6s\n",
      "[CV] END ..................................C=1000, gamma=0.1; total time=  44.7s\n",
      "[CV] END ..................................C=1000, gamma=0.1; total time=  50.4s\n"
     ]
    },
    {
     "data": {
      "text/plain": [
       "RandomizedSearchCV(cv=5, estimator=SVR(), n_jobs=-1,\n",
       "                   param_distributions={'C': [0.001, 0.1, 1, 10, 1000],\n",
       "                                        'gamma': [0.1, 1, 100, 1000]},\n",
       "                   random_state=42, verbose=2)"
      ]
     },
     "execution_count": 21,
     "metadata": {},
     "output_type": "execute_result"
    }
   ],
   "source": [
    "rs_random.fit(X_train_prep, y_train)"
   ]
  },
  {
   "cell_type": "code",
   "execution_count": 22,
   "id": "b02f8649-d676-4749-82da-55ba5b25917a",
   "metadata": {},
   "outputs": [
    {
     "data": {
      "text/plain": [
       "{'gamma': 0.1, 'C': 1000}"
      ]
     },
     "execution_count": 22,
     "metadata": {},
     "output_type": "execute_result"
    }
   ],
   "source": [
    "rs_random.best_params_"
   ]
  },
  {
   "cell_type": "code",
   "execution_count": 24,
   "id": "bbdc4f9c-6730-4f60-8c60-ffce521d73af",
   "metadata": {},
   "outputs": [],
   "source": [
    "new_svr_model = SVR(kernel=\"rbf\", **rs_random.best_params_)\n"
   ]
  },
  {
   "cell_type": "code",
   "execution_count": 25,
   "id": "09303bb3-c030-43bc-acf7-eed6e5353eef",
   "metadata": {},
   "outputs": [
    {
     "data": {
      "text/plain": [
       "SVR(C=1000, gamma=0.1)"
      ]
     },
     "execution_count": 25,
     "metadata": {},
     "output_type": "execute_result"
    }
   ],
   "source": [
    "new_svr_model.fit(X_train_prep, y_train)"
   ]
  },
  {
   "cell_type": "code",
   "execution_count": 26,
   "id": "c848b7bc-5926-4bc2-9c2b-e70e62c013bc",
   "metadata": {},
   "outputs": [],
   "source": [
    "X_test = test_set.drop(\"median_house_value\", axis=1) # drop labels for training set\n",
    "y_test = test_set[\"median_house_value\"].copy()\n",
    "\n",
    "X_test_prepared = full_pipeline.transform(X_test)"
   ]
  },
  {
   "cell_type": "code",
   "execution_count": 28,
   "id": "dee1e222-db8e-4ce9-8dd2-1198e7b96e0b",
   "metadata": {},
   "outputs": [],
   "source": [
    "from sklearn.metrics import mean_squared_error\n",
    "\n",
    "final_predictions = new_svr_model.predict(X_test_prepared)\n",
    "final_mse = mean_squared_error(y_test, final_predictions)\n",
    "final_rmse = np.sqrt(final_mse)"
   ]
  },
  {
   "cell_type": "code",
   "execution_count": 29,
   "id": "b2fbb999-2a03-4638-af20-bf007375b2a7",
   "metadata": {},
   "outputs": [
    {
     "data": {
      "text/plain": [
       "70857.56291661152"
      ]
     },
     "execution_count": 29,
     "metadata": {},
     "output_type": "execute_result"
    }
   ],
   "source": [
    "final_rmse"
   ]
  },
  {
   "cell_type": "code",
   "execution_count": null,
   "id": "b67083e7-d5f0-4577-8b2d-638aaef1391c",
   "metadata": {},
   "outputs": [],
   "source": []
  }
 ],
 "metadata": {
  "kernelspec": {
   "display_name": "default:Python",
   "language": "python",
   "name": "conda-env-default-py"
  },
  "language_info": {
   "codemirror_mode": {
    "name": "ipython",
    "version": 3
   },
   "file_extension": ".py",
   "mimetype": "text/x-python",
   "name": "python",
   "nbconvert_exporter": "python",
   "pygments_lexer": "ipython3",
   "version": "3.9.7"
  }
 },
 "nbformat": 4,
 "nbformat_minor": 5
}
