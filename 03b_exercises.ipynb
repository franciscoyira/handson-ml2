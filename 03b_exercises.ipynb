{
 "cells": [
  {
   "cell_type": "markdown",
   "id": "baea4cf8-edf6-4ddc-9732-a7f8270da084",
   "metadata": {},
   "source": [
    "# Exercise 4 (Chapter 3)\n",
    "Build a spam classificator"
   ]
  },
  {
   "cell_type": "code",
   "execution_count": 1,
   "id": "e5a272a7-a596-40b9-9c81-9629e428d392",
   "metadata": {},
   "outputs": [],
   "source": [
    "# Boilerplate code\n",
    "import sklearn \n",
    "import numpy as np\n",
    "import pandas as pd\n",
    "import os\n",
    "\n",
    "np.random.seed(42)\n",
    "\n",
    "# To plot pretty figures\n",
    "%matplotlib inline\n",
    "import matplotlib as mpl\n",
    "import matplotlib.pyplot as plt\n",
    "mpl.rc('axes', labelsize=14)\n",
    "mpl.rc('xtick', labelsize=12)\n",
    "mpl.rc('ytick', labelsize=12)"
   ]
  },
  {
   "cell_type": "markdown",
   "id": "667e5422-8aea-4b31-a1a0-6ed9d631a8ea",
   "metadata": {},
   "source": [
    "Downloading the data"
   ]
  },
  {
   "cell_type": "code",
   "execution_count": 2,
   "id": "7a293727-b4dc-4f3b-bb4c-2a234a538c32",
   "metadata": {},
   "outputs": [],
   "source": [
    "import urllib.request\n",
    "import tarfile\n",
    "\n",
    "# Creating the directory for the files\n",
    "spam_path = os.path.join(\"datasets\", \"spam\")\n",
    "if not os.path.isdir(spam_path):\n",
    "    os.makedirs(spam_path)"
   ]
  },
  {
   "cell_type": "code",
   "execution_count": 3,
   "id": "8f098faf-91a7-4475-aa0c-584c18666d64",
   "metadata": {},
   "outputs": [],
   "source": [
    "# URLs to download\n",
    "base_url = 'https://spamassassin.apache.org/old/publiccorpus/'\n",
    "\n",
    "ham_file = \"20021010_easy_ham.tar.bz2\"\n",
    "spam_file = '20021010_spam.tar.bz2'\n",
    "\n",
    "ham_url = base_url + ham_file\n",
    "spam_url = base_url + spam_file"
   ]
  },
  {
   "cell_type": "code",
   "execution_count": 13,
   "id": "43f564fc-e262-40e7-9d60-dfc858c31f6c",
   "metadata": {},
   "outputs": [
    {
     "data": {
      "text/plain": [
       "('datasets/spam/20021010_easy_ham.tar.bz2',\n",
       " <http.client.HTTPMessage at 0x7f51d476dcd0>)"
      ]
     },
     "execution_count": 13,
     "metadata": {},
     "output_type": "execute_result"
    }
   ],
   "source": [
    "urllib.request.urlretrieve(ham_url, os.path.join(spam_path, ham_file))"
   ]
  },
  {
   "cell_type": "code",
   "execution_count": 4,
   "id": "ad1272f5-0b20-4e6e-94bc-8842e992ad09",
   "metadata": {},
   "outputs": [
    {
     "data": {
      "text/plain": [
       "('datasets/spam/20021010_spam.tar.bz2',\n",
       " <http.client.HTTPMessage at 0x7f85e8148040>)"
      ]
     },
     "execution_count": 4,
     "metadata": {},
     "output_type": "execute_result"
    }
   ],
   "source": [
    "urllib.request.urlretrieve(spam_url, os.path.join(spam_path, spam_file))"
   ]
  },
  {
   "cell_type": "code",
   "execution_count": 6,
   "id": "7b9b1965-c226-422a-abed-557f0b582639",
   "metadata": {},
   "outputs": [],
   "source": [
    "# Extracting downloaded files\n",
    "def extract_data_files(filename):\n",
    "    tar_bz2_file = tarfile.open(os.path.join(spam_path, filename))\n",
    "    tar_bz2_file.extractall(path=spam_path)\n",
    "    tar_bz2_file.close()\n",
    "\n",
    "for file in (ham_file, spam_file):\n",
    "    extract_data_files(filename = file)"
   ]
  },
  {
   "cell_type": "code",
   "execution_count": null,
   "id": "cf8ed33b-20a5-48c7-badc-00b4ce500988",
   "metadata": {},
   "outputs": [],
   "source": []
  }
 ],
 "metadata": {
  "kernelspec": {
   "display_name": "default:Python",
   "language": "python",
   "name": "conda-env-default-py"
  },
  "language_info": {
   "codemirror_mode": {
    "name": "ipython",
    "version": 3
   },
   "file_extension": ".py",
   "mimetype": "text/x-python",
   "name": "python",
   "nbconvert_exporter": "python",
   "pygments_lexer": "ipython3",
   "version": "3.9.7"
  }
 },
 "nbformat": 4,
 "nbformat_minor": 5
}
