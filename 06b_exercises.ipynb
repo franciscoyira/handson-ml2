{
 "cells": [
  {
   "cell_type": "markdown",
   "id": "3841aaae-7397-473f-ab27-f69676665c7b",
   "metadata": {},
   "source": [
    "# Exercises 7 and 8 - Chapter 6\n",
    "\n",
    "Train and fine-tune a Decision Tree for the moons dataset by following these steps: \n",
    "- Use make_moons(n_samples=10000, noise=0.4) to generate a moons dataset. \n",
    "- Use train_test_split() to split the dataset into a training set and a test set.\n",
    "- Use grid search with cross-validation (with the help of the GridSearchCV class) to find good hyperparameter values for a DecisionTreeClassifier. Hint: try various values for max_leaf_nodes.\n",
    "- Train it on the full training set using these hyperparameters, and measure your model’s performance on the test set. You should get roughly 85% to 87% accuracy."
   ]
  },
  {
   "cell_type": "code",
   "execution_count": 1,
   "id": "5241c548-77e7-4325-b715-a81efffe5e11",
   "metadata": {},
   "outputs": [],
   "source": [
    "# Python ≥3.5 is required\n",
    "import sys\n",
    "assert sys.version_info >= (3, 5)\n",
    "\n",
    "# Scikit-Learn ≥0.20 is required\n",
    "import sklearn\n",
    "assert sklearn.__version__ >= \"0.20\"\n",
    "\n",
    "# Common imports\n",
    "import numpy as np\n",
    "import os\n",
    "\n",
    "# to make this notebook's output stable across runs\n",
    "np.random.seed(42)"
   ]
  },
  {
   "cell_type": "code",
   "execution_count": 4,
   "id": "366760ca-d9d9-44b3-96c9-c4d718b108a9",
   "metadata": {},
   "outputs": [],
   "source": [
    "from sklearn.datasets import make_moons\n",
    "X, y = make_moons(n_samples=10000, noise=0.4)"
   ]
  },
  {
   "cell_type": "code",
   "execution_count": 5,
   "id": "bc6f60a2-84e7-483f-b7ef-1c6e4088742d",
   "metadata": {},
   "outputs": [],
   "source": [
    "from sklearn.model_selection import train_test_split\n",
    "X_train, X_test, y_train, y_test = train_test_split(X, y, test_size=0.2, random_state=42)"
   ]
  },
  {
   "cell_type": "code",
   "execution_count": 16,
   "id": "a1c04df2-403a-43b8-ba91-c1588cb8b083",
   "metadata": {},
   "outputs": [],
   "source": [
    "# Grid Search CV with DecisionTreeClassifier\n",
    "from sklearn.tree import DecisionTreeClassifier\n",
    "tree = DecisionTreeClassifier(random_state=1989)\n",
    "\n",
    "from sklearn.model_selection import GridSearchCV\n",
    "\n",
    "# Parameters to tune:\n",
    "# max_leaf_nodes\n",
    "# min_samples_split\n",
    "# max_depth\n",
    "# min_samples_leaf\n",
    "max_leaf_nodes_params = list(range(2, 100, 5))\n",
    "max_leaf_nodes_params.append(None)\n",
    "\n",
    "param_grid_tree = {\n",
    "    'max_leaf_nodes' : max_leaf_nodes_params,\n",
    "    'min_samples_split': list(range(2, 4, 10)),\n",
    "    'max_depth': [None, 1, 5, 10, 14, 20],\n",
    "    'min_samples_leaf': [1, 3, 5, 10]   \n",
    "}"
   ]
  },
  {
   "cell_type": "code",
   "execution_count": 17,
   "id": "5057e6a2-1e98-4e4c-88a2-d56907a5d6d2",
   "metadata": {},
   "outputs": [
    {
     "data": {
      "text/plain": [
       "GridSearchCV(cv=3, estimator=DecisionTreeClassifier(random_state=1989),\n",
       "             param_grid={'max_depth': [None, 1, 5, 10, 14, 20],\n",
       "                         'max_leaf_nodes': [2, 7, 12, 17, 22, 27, 32, 37, 42,\n",
       "                                            47, 52, 57, 62, 67, 72, 77, 82, 87,\n",
       "                                            92, 97, None],\n",
       "                         'min_samples_leaf': [1, 3, 5, 10],\n",
       "                         'min_samples_split': [2, 12, 22, 32]},\n",
       "             scoring='accuracy')"
      ]
     },
     "execution_count": 17,
     "metadata": {},
     "output_type": "execute_result"
    }
   ],
   "source": [
    "grid = GridSearchCV(tree, param_grid_tree, cv = 3, scoring = 'accuracy')\n",
    "grid.fit(X_train, y_train)"
   ]
  },
  {
   "cell_type": "code",
   "execution_count": 18,
   "id": "054856dc-f38d-488a-976c-c4d0c962be5b",
   "metadata": {},
   "outputs": [
    {
     "data": {
      "text/plain": [
       "{'max_depth': None,\n",
       " 'max_leaf_nodes': 17,\n",
       " 'min_samples_leaf': 1,\n",
       " 'min_samples_split': 2}"
      ]
     },
     "execution_count": 18,
     "metadata": {},
     "output_type": "execute_result"
    }
   ],
   "source": [
    "grid.best_params_"
   ]
  },
  {
   "cell_type": "code",
   "execution_count": 20,
   "id": "bdb43cdc-0d2d-4c14-8798-c0f1eac3520e",
   "metadata": {},
   "outputs": [
    {
     "data": {
      "text/plain": [
       "0.8555001986342105"
      ]
     },
     "execution_count": 20,
     "metadata": {},
     "output_type": "execute_result"
    }
   ],
   "source": [
    "grid.best_score_"
   ]
  },
  {
   "cell_type": "code",
   "execution_count": 21,
   "id": "c5705cbb-9014-4ce2-afdc-884afa65089f",
   "metadata": {},
   "outputs": [
    {
     "data": {
      "text/plain": [
       "DecisionTreeClassifier(max_leaf_nodes=17, random_state=42)"
      ]
     },
     "execution_count": 21,
     "metadata": {},
     "output_type": "execute_result"
    }
   ],
   "source": [
    "# Now I should train the model on the whole training dataset\n",
    "final_dt = DecisionTreeClassifier(random_state=42)\n",
    "final_dt.set_params(**grid.best_params_)\n",
    "\n",
    "final_dt.fit(X_train, y_train)"
   ]
  },
  {
   "cell_type": "code",
   "execution_count": 23,
   "id": "178f14f4-4e03-4508-a2c3-e8f409122d84",
   "metadata": {},
   "outputs": [
    {
     "data": {
      "text/plain": [
       "0.8695"
      ]
     },
     "execution_count": 23,
     "metadata": {},
     "output_type": "execute_result"
    }
   ],
   "source": [
    "from sklearn.metrics import accuracy_score\n",
    "y_pred = final_dt.predict(X_test)\n",
    "accuracy_score(y_test, y_pred)"
   ]
  },
  {
   "cell_type": "markdown",
   "id": "fc047437-5379-46f0-a95e-44a72cc3760b",
   "metadata": {},
   "source": [
    "FUN FACT (from the By default, `GridSearchCV` trains the best model found on the whole training set (you can change this by setting `refit=False`)"
   ]
  },
  {
   "cell_type": "markdown",
   "id": "a4d6ca7e-e07e-4373-91cb-36517592cc76",
   "metadata": {},
   "source": [
    "8. Grow a forest by following these steps: \n",
    "\n",
    "- Continuing the previous exercise, generate 1,000 subsets of the training set, each containing 100 instances selected randomly. Hint: you can use Scikit-Learn’s ShuffleSplit class for this.\n",
    "- Train one Decision Tree on each subset, using the best hyperparameter values found in the previous exercise. Evaluate these 1,000 Decision Trees on the test set. Since they were trained on smaller sets, these Decision Trees will likely perform worse than the first Decision Tree, achieving only about 80% accuracy.\n",
    "- Now comes the magic. For each test set instance, generate the predictions of the 1,000 Decision Trees, and keep only the most frequent prediction (you can use SciPy’s mode() function for this). This approach gives you majority-vote predictions over the test set. \n",
    "- Evaluate these predictions on the test set: you should obtain a slightly higher accuracy than your first model (about 0.5 to 1.5% higher). Congratulations, you have trained a Random Forest classifier!\n"
   ]
  },
  {
   "cell_type": "code",
   "execution_count": null,
   "id": "5dafc98f-a851-4ca8-9b58-8c733409900e",
   "metadata": {},
   "outputs": [],
   "source": [
    "from sklearn.model_selection import ShuffleSplit\n",
    "\n",
    "rs = ShuffleSplit(n_splits=1000, train_size=100, random_state=1989)\n",
    "\n",
    "# The following line of code was unnecessary\n",
    "rs.get_n_splits(X_train)"
   ]
  },
  {
   "cell_type": "code",
   "execution_count": null,
   "id": "97897df8-72b3-4530-be49-c2162b832466",
   "metadata": {},
   "outputs": [],
   "source": [
    "# Iterate over the shuffledsplits\n",
    "trees = []\n",
    "for train_indexes, test_indexes in rs.split(X_train):\n",
    "    new_tree = DecisionTreeClassifier(**grid.best_params_)\n",
    "    new_tree.fit(X_train[train_indexes], y_train[train_indexes])\n",
    "    trees.append(new_tree)"
   ]
  },
  {
   "cell_type": "code",
   "execution_count": 34,
   "id": "084f8551-3d3d-40e2-9a57-b491e9d24464",
   "metadata": {},
   "outputs": [],
   "source": [
    "accuracy_scores = []\n",
    "for tree in trees:\n",
    "    y_pred = tree.predict(X_test)\n",
    "    accuracy_scores.append(accuracy_score(y_test, y_pred))"
   ]
  },
  {
   "cell_type": "code",
   "execution_count": 37,
   "id": "7ce01365-7788-4ce7-a701-3e93b25929ae",
   "metadata": {},
   "outputs": [
    {
     "data": {
      "text/plain": [
       "0.8048190000000001"
      ]
     },
     "execution_count": 37,
     "metadata": {},
     "output_type": "execute_result"
    }
   ],
   "source": [
    "sum(accuracy_scores)/len(accuracy_scores)"
   ]
  },
  {
   "cell_type": "code",
   "execution_count": 40,
   "id": "fbb94ee2-954c-4822-ac63-3a835393302b",
   "metadata": {},
   "outputs": [
    {
     "data": {
      "text/plain": [
       "(2000,)"
      ]
     },
     "execution_count": 40,
     "metadata": {},
     "output_type": "execute_result"
    }
   ],
   "source": [
    "y_pred.shape"
   ]
  },
  {
   "cell_type": "code",
   "execution_count": 42,
   "id": "4127781c-7f38-4f9d-a0df-a6a3d190526c",
   "metadata": {},
   "outputs": [],
   "source": [
    "# For each test set instance, generate the predictions of the 1,000 decision trees and then take the mode() from SciPy\n",
    "count = 0\n",
    "for tree in trees: \n",
    "    y_pred = tree.predict(X_test)\n",
    "    if count == 0:\n",
    "        y_preds = y_pred\n",
    "    else:\n",
    "        y_preds = np.column_stack((y_preds, y_pred))\n",
    "    count =+ 1"
   ]
  },
  {
   "cell_type": "code",
   "execution_count": 43,
   "id": "d16647b9-6069-4e46-b0d4-b7700d3971a9",
   "metadata": {},
   "outputs": [
    {
     "data": {
      "text/plain": [
       "array([[1, 1, 1, ..., 1, 1, 1],\n",
       "       [1, 1, 1, ..., 1, 1, 1],\n",
       "       [0, 0, 0, ..., 0, 0, 0],\n",
       "       [0, 0, 1, ..., 0, 0, 0],\n",
       "       [0, 1, 1, ..., 1, 0, 1]])"
      ]
     },
     "execution_count": 43,
     "metadata": {},
     "output_type": "execute_result"
    }
   ],
   "source": [
    "y_preds[:5]"
   ]
  },
  {
   "cell_type": "code",
   "execution_count": 44,
   "id": "4a0cd5c2-0f78-4057-b17f-33a17d5fe571",
   "metadata": {},
   "outputs": [],
   "source": [
    "from scipy.stats import mode\n",
    "y_pred_mode = mode(y_preds, axis=1)"
   ]
  },
  {
   "cell_type": "code",
   "execution_count": 61,
   "id": "7ff76e37-6131-4e0c-82b5-42e9199cdd10",
   "metadata": {},
   "outputs": [],
   "source": [
    "y_vote = y_pred_mode.mode.flatten()"
   ]
  },
  {
   "cell_type": "code",
   "execution_count": 58,
   "id": "4932c963-2bc4-4b9a-9412-557c8ee5d5b7",
   "metadata": {},
   "outputs": [
    {
     "data": {
      "text/plain": [
       "True"
      ]
     },
     "execution_count": 58,
     "metadata": {},
     "output_type": "execute_result"
    }
   ],
   "source": [
    "isinstance(y_vote, np.ndarray)"
   ]
  },
  {
   "cell_type": "code",
   "execution_count": 62,
   "id": "e08ce50d-05a6-41fb-8490-b13b999d05ca",
   "metadata": {},
   "outputs": [
    {
     "data": {
      "text/plain": [
       "0.876"
      ]
     },
     "execution_count": 62,
     "metadata": {},
     "output_type": "execute_result"
    }
   ],
   "source": [
    "accuracy_score(y_test, y_vote)"
   ]
  },
  {
   "cell_type": "markdown",
   "id": "5cfe5cf0-9965-43ee-97a6-d3be58ecdb78",
   "metadata": {},
   "source": [
    "THIS WAS GOOD! But there are better ways, look at the solutions\n",
    "\n",
    "and this: https://stackoverflow.com/questions/18691084/what-does-1-mean-in-numpy-reshape#comment87234675_42510505"
   ]
  },
  {
   "cell_type": "code",
   "execution_count": null,
   "id": "b0121253-d0a3-42eb-a1bb-020ca19cf5ef",
   "metadata": {},
   "outputs": [],
   "source": []
  }
 ],
 "metadata": {
  "kernelspec": {
   "display_name": "default:Python",
   "language": "python",
   "name": "conda-env-default-py"
  },
  "language_info": {
   "codemirror_mode": {
    "name": "ipython",
    "version": 3
   },
   "file_extension": ".py",
   "mimetype": "text/x-python",
   "name": "python",
   "nbconvert_exporter": "python",
   "pygments_lexer": "ipython3",
   "version": "3.9.7"
  }
 },
 "nbformat": 4,
 "nbformat_minor": 5
}
